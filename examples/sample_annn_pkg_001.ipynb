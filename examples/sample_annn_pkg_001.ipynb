{
 "cells": [
  {
   "cell_type": "markdown",
   "metadata": {},
   "source": [
    "# Load modules"
   ]
  },
  {
   "cell_type": "code",
   "execution_count": null,
   "metadata": {
    "ExecuteTime": {
     "end_time": "2021-05-31T19:32:41.912196Z",
     "start_time": "2021-05-31T19:32:41.638901Z"
    }
   },
   "outputs": [],
   "source": [
    "import sample_annn_pkg as sap"
   ]
  },
  {
   "cell_type": "markdown",
   "metadata": {},
   "source": [
    "# Samples"
   ]
  },
  {
   "cell_type": "markdown",
   "metadata": {},
   "source": [
    "## sample001"
   ]
  },
  {
   "cell_type": "code",
   "execution_count": null,
   "metadata": {
    "ExecuteTime": {
     "end_time": "2021-05-31T19:32:41.925588Z",
     "start_time": "2021-05-31T19:32:41.913683Z"
    }
   },
   "outputs": [],
   "source": [
    "sap.func02()"
   ]
  },
  {
   "cell_type": "markdown",
   "metadata": {},
   "source": [
    "## sample002"
   ]
  },
  {
   "cell_type": "code",
   "execution_count": null,
   "metadata": {
    "ExecuteTime": {
     "end_time": "2021-05-31T19:32:41.938980Z",
     "start_time": "2021-05-31T19:32:41.927572Z"
    }
   },
   "outputs": [],
   "source": [
    "# load csv\n",
    "df0 = sap.datasets.load_sample_data0()\n",
    "df0"
   ]
  },
  {
   "cell_type": "markdown",
   "metadata": {},
   "source": [
    "## sample003"
   ]
  },
  {
   "cell_type": "code",
   "execution_count": null,
   "metadata": {
    "ExecuteTime": {
     "end_time": "2021-05-31T19:32:42.303539Z",
     "start_time": "2021-05-31T19:32:41.940990Z"
    },
    "scrolled": true
   },
   "outputs": [],
   "source": [
    "# load excel\n",
    "df1 = sap.datasets.load_sample_data1()\n",
    "df1"
   ]
  },
  {
   "cell_type": "markdown",
   "metadata": {},
   "source": [
    "## sample004"
   ]
  },
  {
   "cell_type": "code",
   "execution_count": null,
   "metadata": {
    "ExecuteTime": {
     "end_time": "2021-05-31T19:32:42.310483Z",
     "start_time": "2021-05-31T19:32:42.306028Z"
    },
    "scrolled": true
   },
   "outputs": [],
   "source": [
    "try:\n",
    "    sap.func01\n",
    "except Exception as e:\n",
    "    print(e)"
   ]
  },
  {
   "cell_type": "markdown",
   "metadata": {},
   "source": [
    "## sample005"
   ]
  },
  {
   "cell_type": "code",
   "execution_count": null,
   "metadata": {
    "ExecuteTime": {
     "end_time": "2021-05-31T19:32:42.320403Z",
     "start_time": "2021-05-31T19:32:42.311971Z"
    }
   },
   "outputs": [],
   "source": [
    "pc = sap.PoyoClass()\n",
    "\n",
    "print(pc.get_hoge())\n",
    "print('*' * 20)\n",
    "pc.set_hoge(123)\n",
    "print(pc.get_hoge())"
   ]
  },
  {
   "cell_type": "code",
   "execution_count": null,
   "metadata": {},
   "outputs": [],
   "source": []
  }
 ],
 "metadata": {
  "kernelspec": {
   "display_name": "Python 3",
   "language": "python",
   "name": "python3"
  },
  "language_info": {
   "codemirror_mode": {
    "name": "ipython",
    "version": 3
   },
   "file_extension": ".py",
   "mimetype": "text/x-python",
   "name": "python",
   "nbconvert_exporter": "python",
   "pygments_lexer": "ipython3",
   "version": "3.8.8"
  },
  "toc": {
   "base_numbering": 1,
   "nav_menu": {},
   "number_sections": true,
   "sideBar": true,
   "skip_h1_title": false,
   "title_cell": "Table of Contents",
   "title_sidebar": "Contents",
   "toc_cell": false,
   "toc_position": {},
   "toc_section_display": true,
   "toc_window_display": false
  }
 },
 "nbformat": 4,
 "nbformat_minor": 4
}
